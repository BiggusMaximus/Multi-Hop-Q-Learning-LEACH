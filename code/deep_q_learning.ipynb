{
 "cells": [
  {
   "cell_type": "code",
   "execution_count": 1,
   "metadata": {},
   "outputs": [],
   "source": [
    "import numpy as np"
   ]
  },
  {
   "cell_type": "code",
   "execution_count": 4,
   "metadata": {},
   "outputs": [
    {
     "name": "stdout",
     "output_type": "stream",
     "text": [
      "F1 : 0.896632702621563 | f2 : 53.14179592846516\n",
      "attenuation : 4.951892572504079\n",
      "Noise total : 7.05 | Thermal noise : 17.04 | Ship noise : -13.49 | Wind noise : 34.56 | Turbulence noise : -31.06 | f : 40.0 kHz\n",
      "Underwater speed at D = 1000 is : 1633.5770044 m/s\n"
     ]
    }
   ],
   "source": [
    "f = 4e4\n",
    "pH = 7.7         \n",
    "sh = 0.55\n",
    "T = 4     \n",
    "S = 34     \n",
    "w = 5\n",
    "D = 1  \n",
    "k =1.5\n",
    "t_transmission = \n",
    "\n",
    "def attenuationConstant(show_info = False):\n",
    "    term1 = 0.106 * (f1 * f**2) / (f1**2 + f**2) * np.exp((pH - S) / 0.56)\n",
    "    term2 = 0.52 * (1 + T / 43) * (S / 35) * (f2 * f**2) / (f2**2 + f**2) * np.exp(-D / 0.56)\n",
    "    term3 = 4.9e-4 * f2 * np.exp(T / 27 + D / 17)\n",
    "    attenuation = term1 + term2 + term3\n",
    "    if show_info: \n",
    "        print(f\"attenuation : {attenuation}\")\n",
    "\n",
    "    return attenuation\n",
    "\n",
    "def vibrationFrequencies(show_info = False):\n",
    "    f1 = 0.78 * np.sqrt(S/35) * np.exp(T/26)\n",
    "    f2 = 42 * np.exp(T/17)\n",
    "\n",
    "    if show_info: \n",
    "        print(f\"F1 : {f1} | f2 : {f2}\")\n",
    "\n",
    "    return f1, f2\n",
    "\n",
    "def noise(show_info = False):\n",
    "    f_khz = f / 1e3\n",
    "    turbulence_noise    = 17 - 30 * np.log10(f_khz)\n",
    "    ship_noise          = 40 + 20 * (sh - 0.5) + 26 * np.log10(f_khz) - 60 * np.log10(f_khz + 0.03)\n",
    "    wind_noise          =  50 + 7.5 * np.sqrt(w) + 20 * np.log10(f_khz) - 40 * np.log10(f_khz + 0.4)\n",
    "    thermal_noise       =  -15 + 20 * np.log10(f_khz)\n",
    "\n",
    "    noise_total = turbulence_noise + ship_noise + wind_noise + thermal_noise\n",
    "\n",
    "    if show_info:   \n",
    "        turbulence_noise    = round(turbulence_noise    , 2)\n",
    "        ship_noise          = round(ship_noise          , 2)\n",
    "        wind_noise          = round(wind_noise          , 2)\n",
    "        thermal_noise       = round(thermal_noise       , 2)\n",
    "        noise_total         = round(noise_total       , 2)\n",
    "        print(f\"Noise total : {noise_total} | Thermal noise : {thermal_noise} | Ship noise : {ship_noise} | Wind noise : {wind_noise} | Turbulence noise : {turbulence_noise} | f : {f_khz} kHz\")\n",
    "    return noise_total\n",
    "\n",
    "def underwater_speed(D, show_info = False):\n",
    "    v_uw = 1448.96 + 4.591 * T - 5.304e-2 * T**2 + 2.374 * T**3 + 1.340 * (S - 35) + \\\n",
    "           1.630e-2 * D + 1.675e-7 * D**2 - 1.025e-2 * T * (S - 35) - 7.139e-13 * D**3 * T\n",
    "    \n",
    "    if show_info:\n",
    "        print(f\"Underwater speed at D = {D} is : {v_uw} m/s\")\n",
    "\n",
    "    return v_uw\n",
    "\n",
    "def attenuation(distance, show_info = False):\n",
    "    att = k * np.log10(distance) + distance * a * 1e-3\n",
    "    if show_info:   \n",
    "        print(f\"Attenuation at distance ({distance} m) : {att}\")\n",
    "    return att\n",
    "\n",
    "def ratio_delay(distance):\n",
    "    v_uw = underwater_speed(1000, show_info = True)\n",
    "    t_uw = distance/v_uw\n",
    "\n",
    "f1, f2 = vibrationFrequencies(show_info = True)\n",
    "a = attenuationConstant(show_info = True)\n",
    "N = noise(show_info = True)\n",
    "v_uw = underwater_speed(1000, show_info = True)\n",
    "A = attenuation(1e3)"
   ]
  },
  {
   "cell_type": "code",
   "execution_count": 5,
   "metadata": {},
   "outputs": [
    {
     "data": {
      "text/plain": [
       "32.0"
      ]
     },
     "execution_count": 5,
     "metadata": {},
     "output_type": "execute_result"
    }
   ],
   "source": [
    "20 + 7.05 + 4.95"
   ]
  },
  {
   "cell_type": "code",
   "execution_count": null,
   "metadata": {},
   "outputs": [],
   "source": []
  }
 ],
 "metadata": {
  "kernelspec": {
   "display_name": "Python 3",
   "language": "python",
   "name": "python3"
  },
  "language_info": {
   "codemirror_mode": {
    "name": "ipython",
    "version": 3
   },
   "file_extension": ".py",
   "mimetype": "text/x-python",
   "name": "python",
   "nbconvert_exporter": "python",
   "pygments_lexer": "ipython3",
   "version": "3.7.9"
  }
 },
 "nbformat": 4,
 "nbformat_minor": 2
}
