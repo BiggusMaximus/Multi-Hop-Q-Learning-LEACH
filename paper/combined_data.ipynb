{
 "cells": [
  {
   "cell_type": "code",
   "execution_count": 1,
   "metadata": {},
   "outputs": [],
   "source": [
    "import pandas as pd"
   ]
  },
  {
   "cell_type": "code",
   "execution_count": 2,
   "metadata": {},
   "outputs": [],
   "source": [
    "df1 = pd.read_excel('./TRIAL_II_EPOCH_1000_GAMMA_0.5_EPSILON_[0.1-0.7]_QL_tuning.xlsx')\n",
    "df2 = pd.read_excel('./TRIAL_II_EPOCH_1000_GAMMA_0.5_EPSILON_[0.8-1]_QL_tuning.xlsx')"
   ]
  },
  {
   "cell_type": "code",
   "execution_count": 7,
   "metadata": {},
   "outputs": [],
   "source": [
    "combined_df = pd.concat([df1, df2])\n",
    "combined_df = combined_df.reset_index(drop=True)\n",
    "combined_df.to_excel('./TRIAL_II_EPOCH_1000_GAMMA_0.5_EPSILON_[0.1-1]_QL_tuning.xlsx')"
   ]
  },
  {
   "cell_type": "code",
   "execution_count": null,
   "metadata": {},
   "outputs": [],
   "source": []
  }
 ],
 "metadata": {
  "kernelspec": {
   "display_name": "Python 3",
   "language": "python",
   "name": "python3"
  },
  "language_info": {
   "codemirror_mode": {
    "name": "ipython",
    "version": 3
   },
   "file_extension": ".py",
   "mimetype": "text/x-python",
   "name": "python",
   "nbconvert_exporter": "python",
   "pygments_lexer": "ipython3",
   "version": "3.7.9"
  }
 },
 "nbformat": 4,
 "nbformat_minor": 2
}
